{
 "cells": [
  {
   "cell_type": "code",
   "execution_count": null,
   "metadata": {},
   "outputs": [],
   "source": [
    "import pandas as pd\n",
    "import numpy as np\n",
    "import matplotlib.pyplot as plt\n",
    "from matplotlib.ticker import PercentFormatter\n",
    "\n",
    "import micplot"
   ]
  },
  {
   "cell_type": "markdown",
   "metadata": {},
   "source": [
    "# Introduction"
   ]
  },
  {
   "cell_type": "markdown",
   "metadata": {},
   "source": [
    "# Collecting the data"
   ]
  },
  {
   "cell_type": "code",
   "execution_count": null,
   "metadata": {},
   "outputs": [],
   "source": [
    "try:\n",
    "    df = pd.read_csv('Data\\SkyRadio2022.csv', parse_dates=['Date'])\n",
    "except FileNotFoundError:\n",
    "    import playlistdownloader\n",
    "    df = playlistdownloader.Playlistdownloader().get_playlist_period('2022-11-01', '2022-12-26')\n",
    "    df.to_csv('Data\\SkyRadio2022.csv', index=False)"
   ]
  },
  {
   "attachments": {},
   "cell_type": "markdown",
   "metadata": {},
   "source": [
    "# Data preparation"
   ]
  },
  {
   "cell_type": "code",
   "execution_count": null,
   "metadata": {},
   "outputs": [],
   "source": [
    "def combine_date_and_time(df):\n",
    "    \"\"\"\n",
    "    Combine columns Date and Time to single column Datetime\n",
    "    \"\"\"\n",
    "    datecolasstr = df[\"Date\"].dt.strftime(\"%Y-%m-%d\")\n",
    "    datetime = pd.to_datetime(datecolasstr + \" \" + df[\"Time\"], format=\"%Y-%m-%d %H:%M\")\n",
    "    return df.assign(Datetime=lambda df: datetime).drop(columns=[\"Date\", \"Time\"])\n",
    "\n",
    "def add_hash(df: pd.DataFrame, columns=None) -> pd.DataFrame:\n",
    "    \"\"\"Add column `Hash` to a DataFrame per row\n",
    "\n",
    "    Args:\n",
    "        df (pd.DataFrame]): \n",
    "            The DataFrame on which to add the hash\n",
    "        columns (list, optional): \n",
    "            A list of columns on which the hash must be based. Defaults to using\n",
    "            all columns\n",
    "\n",
    "    Returns:\n",
    "        pd.DataFrame: the dataframe with extra column `Hash`\n",
    "    \"\"\"\n",
    "    df = df.copy()\n",
    "\n",
    "    if not columns:\n",
    "        columns = df.columns\n",
    "    \n",
    "    return df.assign(Hash = lambda df: df[columns].apply(lambda r: hash(tuple(r)), axis=1))\n",
    "\n",
    "def add_if_christmassong(df: pd.DataFrame, startdate_christmasstation='2022-12-06') -> pd.DataFrame:\n",
    "    \"\"\"Adds column whether each song is a Christmas song.\n",
    "\n",
    "    Does so by checking whether the song is played during the time Sky Radio is the \n",
    "    Christmas Station\n",
    "\n",
    "\n",
    "    Parameters\n",
    "    ----------\n",
    "        df (pd.DataFrame): The Data Frame for which to check the songs\n",
    "        startdate_christmasstation (str, optional): Date after which the radio station\n",
    "        only plays CHristmas song. Defaults to '2022-12-06'.\n",
    "\n",
    "    Returns\n",
    "    --------\n",
    "        pd.DataFrame: Per ID (Hash) whether it is a Christmas Song\n",
    "    \"\"\"\n",
    "    df = df.copy()\n",
    "    return (df.assign(ChristmasSong = lambda df: df.groupby('Hash')['Datetime'].transform('last')\n",
    "                                                    .gt(startdate_christmasstation)\n",
    "                                            )\n",
    "                    )"
   ]
  },
  {
   "cell_type": "code",
   "execution_count": null,
   "metadata": {},
   "outputs": [],
   "source": [
    "df = (df.pipe(combine_date_and_time)\n",
    "        .pipe(add_hash, ['Title', 'Artist'])\n",
    "        .pipe(add_if_christmassong)\n",
    "        )\n",
    "df_song = df.groupby('Hash')[['Title', 'Artist']].first()"
   ]
  },
  {
   "attachments": {},
   "cell_type": "markdown",
   "metadata": {},
   "source": [
    "# Analysis: when do the Christmas songs start playing?"
   ]
  },
  {
   "cell_type": "code",
   "execution_count": null,
   "metadata": {},
   "outputs": [],
   "source": [
    "df_day = (df.groupby(pd.Grouper(key='Datetime', freq='D')).agg(NSongs = pd.NamedAgg('Hash', 'count'),\n",
    "                                                               NUniqueSongs=pd.NamedAgg('Hash', 'nunique'),\n",
    "                                                              NMostPlayed = pd.NamedAgg('Hash', lambda s: s.value_counts().max()),\n",
    "                                                              PctChristmasSongs = pd.NamedAgg('ChristmasSong', 'mean'),\n",
    ")\n",
    ".assign(AvgTimesPlayed = lambda df: df['AantalNummers'] / df['AantalUniekeNummers'])\n",
    ")\n",
    "\n",
    "ax = df_day['PctChristmasSongs'].plot()\n",
    "ax.yaxis.set_major_formatter(PercentFormatter(xmax=1))\n",
    "ax.set_ylabel('Percentage Christmas Songs')\n",
    "ax.set_xlabel('')\n",
    "plt.savefig('Figures/PercentageChristmasSongs.jpg')"
   ]
  },
  {
   "cell_type": "code",
   "execution_count": null,
   "metadata": {},
   "outputs": [],
   "source": [
    "def filter_by_date_range(df, start_date, num_days):\n",
    "  start_date = pd.to_datetime(start_date)\n",
    "  end_date = start_date + pd.Timedelta(num_days, unit='d')\n",
    "  mask = (df['Datetime'] >= start_date) & (df['Datetime'] < end_date)\n",
    "  return df[mask]\n",
    "\n",
    "def compare_unique_songs(df, days, first_start_date='2022-11-01', second_start_date='2022-12-01'):\n",
    "    df_first_start_date = filter_by_date_range(df, first_start_date, days)\n",
    "    df_second_start_date = filter_by_date_range(df, second_start_date, days)\n",
    "    result = pd.Series({(first_start_date, days): df_first_start_date['Hash'].nunique(),\n",
    "                (second_start_date, days): df_second_start_date['Hash'].nunique()})\n",
    "    return result\n",
    "\n",
    "df_nunique = (pd.concat([compare_unique_songs(df, d) for d in [1, 7, 20]])\n",
    "                .unstack(level=0)\n",
    "                .rename(columns={'2022-11-01': 'Pre-Christmas Period',\n",
    "                                 '2022-12-01': 'Christmas Period'}\n",
    "                                 )\n",
    "              )\n"
   ]
  },
  {
   "attachments": {},
   "cell_type": "markdown",
   "metadata": {},
   "source": [
    "# Analysis: not many new songs are played"
   ]
  },
  {
   "cell_type": "code",
   "execution_count": null,
   "metadata": {},
   "outputs": [],
   "source": [
    "vis = micplot.visualize(df_nunique.loc[[1]], plottype='vertical_bar')\n",
    "vis.ax.set_xlabel('')\n",
    "vis.ax.set_ylabel('Number of different songs\\n on a single day')\n",
    "plt.savefig('Figures/UniqueSongs1Day.jpg', bbox_inches='tight')"
   ]
  },
  {
   "cell_type": "code",
   "execution_count": null,
   "metadata": {},
   "outputs": [],
   "source": [
    "vis = micplot.visualize(df_nunique.loc[[1, 7]], plottype='vertical_bar')\n",
    "vis.ax.set_xlabel('Days of listening')\n",
    "vis.ax.set_ylabel('Number of different songs')\n",
    "plt.savefig('Figures/UniqueSongs7Days.jpg', bbox_inches='tight')"
   ]
  },
  {
   "cell_type": "code",
   "execution_count": null,
   "metadata": {},
   "outputs": [],
   "source": [
    "vis = micplot.visualize(df_nunique, plottype='vertical_bar')\n",
    "plt.arrow(2.15, 830, 0, - (830 - 183), head_width=0.1, head_length=40, color='k', length_includes_head=True)\n",
    "plt.annotate('÷ 4.5', (2.18, 450))\n",
    "vis.ax.set_xlabel('Days of listening')\n",
    "vis.ax.set_ylabel('Number of different songs')\n",
    "plt.savefig('Figures/UniqueSongs20Days.jpg', bbox_inches='tight')"
   ]
  },
  {
   "cell_type": "code",
   "execution_count": null,
   "metadata": {},
   "outputs": [],
   "source": [
    "songs_per_day = df.groupby([pd.Grouper(key='Datetime', freq='D'), 'Hash']).size()"
   ]
  },
  {
   "attachments": {},
   "cell_type": "markdown",
   "metadata": {},
   "source": [
    "# Analysis: a few favorite songs are replayed everytime"
   ]
  },
  {
   "cell_type": "code",
   "execution_count": null,
   "metadata": {},
   "outputs": [],
   "source": [
    "songs_per_day.loc[:'2022-11-19'].max()#.loc[lambda s: s.eq(s.max())].to_frame(name='#_played').join(df_song)"
   ]
  },
  {
   "cell_type": "code",
   "execution_count": null,
   "metadata": {},
   "outputs": [],
   "source": [
    "songs_per_day.loc[lambda s: s.eq(s.max())].to_frame(name='#_played').join(df_song)"
   ]
  },
  {
   "cell_type": "code",
   "execution_count": null,
   "metadata": {},
   "outputs": [],
   "source": [
    "songs_per_day.loc['2022-11-01':'2022-11-20'].loc[lambda s: s.eq(s.max())].to_frame(name='#_played').join(df_song)"
   ]
  },
  {
   "cell_type": "code",
   "execution_count": null,
   "metadata": {},
   "outputs": [],
   "source": [
    "songs_per_day.unstack(fill_value=0).loc['2022-12-01':].min().loc[lambda s: s.ge(5)].to_frame(name='min. # played every day').join(df_song)"
   ]
  },
  {
   "attachments": {},
   "cell_type": "markdown",
   "metadata": {},
   "source": [
    "This wasn't the case before Christmas"
   ]
  },
  {
   "cell_type": "code",
   "execution_count": null,
   "metadata": {},
   "outputs": [],
   "source": [
    "songs_per_day.unstack(fill_value=0).loc['2022-11-01':'2022-11-20'].min().loc[lambda s: s.ge(3)].to_frame(name='min. # played every day').join(df_song)"
   ]
  },
  {
   "attachments": {},
   "cell_type": "markdown",
   "metadata": {},
   "source": [
    "# Analysis: These songs amount to a serious percentage of all songs"
   ]
  },
  {
   "cell_type": "code",
   "execution_count": null,
   "metadata": {},
   "outputs": [],
   "source": [
    "n_played_dec = songs_per_day.loc['2022-12-01':].groupby('Hash').sum().sort_values(ascending=False)\n",
    "\n",
    "(n_played_dec.cumsum() / n_played_dec.sum()).loc[lambda s: s<0.25]"
   ]
  },
  {
   "cell_type": "code",
   "execution_count": null,
   "metadata": {},
   "outputs": [],
   "source": [
    "n_played_dec.to_frame().join(df_song).head(12)"
   ]
  }
 ],
 "metadata": {
  "kernelspec": {
   "display_name": "radioplaylist",
   "language": "python",
   "name": "python3"
  },
  "language_info": {
   "codemirror_mode": {
    "name": "ipython",
    "version": 3
   },
   "file_extension": ".py",
   "mimetype": "text/x-python",
   "name": "python",
   "nbconvert_exporter": "python",
   "pygments_lexer": "ipython3",
   "version": "3.10.8"
  },
  "orig_nbformat": 4,
  "vscode": {
   "interpreter": {
    "hash": "d746070669ff28f6e923dad544f34529d5088e32f65775c04aec957eee9579ad"
   }
  }
 },
 "nbformat": 4,
 "nbformat_minor": 2
}
