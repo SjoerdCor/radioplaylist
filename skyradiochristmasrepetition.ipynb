{
 "cells": [
  {
   "cell_type": "code",
   "execution_count": null,
   "metadata": {},
   "outputs": [],
   "source": [
    "import datetime\n",
    "\n",
    "import bs4\n",
    "import requests\n",
    "import pandas as pd\n",
    "import numpy as np\n",
    "import matplotlib.pyplot as plt\n",
    "from matplotlib.ticker import PercentFormatter\n",
    "\n",
    "import micplot"
   ]
  },
  {
   "cell_type": "markdown",
   "metadata": {},
   "source": [
    "# Introduction"
   ]
  },
  {
   "cell_type": "markdown",
   "metadata": {},
   "source": [
    "# Collecting the data"
   ]
  },
  {
   "cell_type": "code",
   "execution_count": null,
   "metadata": {},
   "outputs": [],
   "source": [
    "def url_to_soup(url):\n",
    "    request = requests.get(url)\n",
    "    return bs4.BeautifulSoup(request.text, 'html5lib')\n",
    "\n",
    "def create_url(date):\n",
    "    datestr = f'{date.day}-{date.month}-{date.year}'\n",
    "    return f'https://www.muziekweb.nl/Muziekweb/Radio/?station=SkyRadio&date={datestr}&RangeStart=1&RangeEnd=500'\n",
    "\n",
    "def find_all_rows(soup):\n",
    "    return soup.find('ul', attrs={'class': 'radio-playlist'}).find_all('li', class_=['odd', 'even'])\n",
    "\n",
    "def row_to_dct(ele) -> dict:\n",
    "    result = {}\n",
    "    result['Time'] = ele.find('div', attrs={'class': \"col-time\"}).text.strip()\n",
    "    result['Title'] = ele.find('span', class_=['cat-songtitle', 'col-songtitle']).text.strip()\n",
    "    result['Artist'] = ele.find('div', attrs={'class': \"col-performers\"}).text.strip()\n",
    "    return result\n",
    "\n",
    "def json_to_df(json, date):\n",
    "    df = pd.DataFrame(json)\n",
    "    df['Datetime'] = [pd.Timestamp(date.strftime('%Y-%m-%d ') + time) for time in df['Time']]\n",
    "    return df.drop(columns=['Time'])\n"
   ]
  },
  {
   "cell_type": "code",
   "execution_count": null,
   "metadata": {},
   "outputs": [],
   "source": [
    "dfs = []\n",
    "for date in pd.date_range('2022-11-01', '2022-12-25'):\n",
    "    url = create_url(date)\n",
    "    soup = url_to_soup(url)\n",
    "    rows = find_all_rows(soup)\n",
    "    json = [row_to_dct(div) for div in rows]\n",
    "    df = json_to_df(json, date)\n",
    "    dfs.append(df)\n",
    "\n",
    "df = pd.concat(dfs)"
   ]
  },
  {
   "attachments": {},
   "cell_type": "markdown",
   "metadata": {},
   "source": [
    "# Analysis: when do the Christmas songs start playing?"
   ]
  },
  {
   "cell_type": "code",
   "execution_count": null,
   "metadata": {},
   "outputs": [],
   "source": [
    "df = df.assign(Hash = lambda df: df[['Title', 'Artist']].apply(lambda r: hash(tuple(r)), axis=1))\n",
    "STARTDATE_CHRISTMASSTATION = '2022-12-06'\n",
    "kerstnummer = df.groupby('Hash')['Datetime'].last().gt(STARTDATE_CHRISTMASSTATION)\n",
    "df = df.assign(Kerstnummer = df['Hash'].map(kerstnummer))\n",
    "df_song = df.groupby('Hash')[['Title', 'Artist']].first()"
   ]
  },
  {
   "cell_type": "code",
   "execution_count": null,
   "metadata": {},
   "outputs": [],
   "source": [
    "df_day = (df.groupby(pd.Grouper(key='Datetime', freq='D')).agg(AantalNummers = pd.NamedAgg('Hash', 'count'),\n",
    "                                                                AantalUniekeNummers=pd.NamedAgg('Hash', 'nunique'),\n",
    "                                                              VaakstGedraaid = pd.NamedAgg('Hash', lambda s: s.value_counts().max()),\n",
    "                                                              PctKerstnummers = pd.NamedAgg('Kerstnummer', 'mean'),\n",
    ")\n",
    ".assign(GemiddeldKerenGedraaid = lambda df: df['AantalNummers'] / df['AantalUniekeNummers'])\n",
    ")\n",
    "\n",
    "ax = df_day['PctKerstnummers'].plot()\n",
    "ax.yaxis.set_major_formatter(PercentFormatter(xmax=1))\n",
    "ax.set_ylabel('Percentage kerstliedjes')\n",
    "ax.set_xlabel('')\n",
    "plt.savefig('Figures/PercentageChristmasSongs.jpg')"
   ]
  },
  {
   "cell_type": "code",
   "execution_count": null,
   "metadata": {},
   "outputs": [],
   "source": [
    "def filter_by_date_range(df, start_date, num_days):\n",
    "  start_date = pd.to_datetime(start_date)\n",
    "  end_date = start_date + pd.Timedelta(num_days, unit='d')\n",
    "  mask = (df['Datetime'] >= start_date) & (df['Datetime'] < end_date)\n",
    "  return df[mask]\n",
    "\n",
    "def compare_unique_songs(df, days, first_start_date='2022-11-01', second_start_date='2022-12-01'):\n",
    "    df_first_start_date = filter_by_date_range(df, first_start_date, days)\n",
    "    df_second_start_date = filter_by_date_range(df, second_start_date, days)\n",
    "    result = pd.Series({(first_start_date, days): df_first_start_date['Hash'].nunique(),\n",
    "                (second_start_date, days): df_second_start_date['Hash'].nunique()})\n",
    "    return result\n",
    "\n",
    "df_nunique = (pd.concat([compare_unique_songs(df, d) for d in [1, 7, 20]])\n",
    "                .unstack(level=0)\n",
    "                .rename(columns={'2022-11-01': 'Pre-Christmas Period',\n",
    "                                 '2022-12-01': 'Christmas Period'}\n",
    "                                 )\n",
    "              )\n"
   ]
  },
  {
   "attachments": {},
   "cell_type": "markdown",
   "metadata": {},
   "source": [
    "# Analysis: not many new songs are played"
   ]
  },
  {
   "cell_type": "code",
   "execution_count": null,
   "metadata": {},
   "outputs": [],
   "source": [
    "vis = micplot.visualize(df_nunique.loc[[1]], plottype='vertical_bar')\n",
    "vis.ax.set_xlabel('')\n",
    "vis.ax.set_ylabel('Number of different songs\\n on a single day')\n",
    "plt.savefig('Figures/UniqueSongs1Day.jpg', bbox_inches='tight')"
   ]
  },
  {
   "cell_type": "code",
   "execution_count": null,
   "metadata": {},
   "outputs": [],
   "source": [
    "vis = micplot.visualize(df_nunique.loc[[1, 7]], plottype='vertical_bar')\n",
    "vis.ax.set_xlabel('Days of listening')\n",
    "vis.ax.set_ylabel('Number of different songs')\n",
    "plt.savefig('Figures/UniqueSongs7Days.jpg', bbox_inches='tight')"
   ]
  },
  {
   "cell_type": "code",
   "execution_count": null,
   "metadata": {},
   "outputs": [],
   "source": [
    "vis = micplot.visualize(df_nunique, plottype='vertical_bar')\n",
    "plt.arrow(2.15, 830, 0, - (830 - 183), head_width=0.1, head_length=40, color='k', length_includes_head=True)\n",
    "plt.annotate('÷ 4.5', (2.18, 450))\n",
    "vis.ax.set_xlabel('Days of listening')\n",
    "vis.ax.set_ylabel('Number of different songs')\n",
    "plt.savefig('Figures/UniqueSongs20Days.jpg', bbox_inches='tight')"
   ]
  },
  {
   "cell_type": "code",
   "execution_count": null,
   "metadata": {},
   "outputs": [],
   "source": [
    "songs_per_day = df.groupby([pd.Grouper(key='Datetime', freq='D'), 'Hash']).size()"
   ]
  },
  {
   "attachments": {},
   "cell_type": "markdown",
   "metadata": {},
   "source": [
    "# Analysis: a few favorite songs are replayed everytime"
   ]
  },
  {
   "cell_type": "code",
   "execution_count": null,
   "metadata": {},
   "outputs": [],
   "source": [
    "songs_per_day.loc[:'2022-11-19'].max()#.loc[lambda s: s.eq(s.max())].to_frame(name='#_played').join(df_song)"
   ]
  },
  {
   "cell_type": "code",
   "execution_count": null,
   "metadata": {},
   "outputs": [],
   "source": [
    "songs_per_day.loc[lambda s: s.eq(s.max())].to_frame(name='#_played').join(df_song)"
   ]
  },
  {
   "cell_type": "code",
   "execution_count": null,
   "metadata": {},
   "outputs": [],
   "source": [
    "songs_per_day.unstack(fill_value=0).loc['2022-12-01':].min().loc[lambda s: s.ge(5)].to_frame(name='min. # played every day').join(df_song)"
   ]
  },
  {
   "attachments": {},
   "cell_type": "markdown",
   "metadata": {},
   "source": [
    "This wasn't the case before Christmas"
   ]
  },
  {
   "cell_type": "code",
   "execution_count": null,
   "metadata": {},
   "outputs": [],
   "source": [
    "songs_per_day.unstack(fill_value=0).loc['2022-11-01':'2022-11-20'].min().loc[lambda s: s.ge(5)].to_frame(name='min. # played every day').join(df_song)"
   ]
  },
  {
   "attachments": {},
   "cell_type": "markdown",
   "metadata": {},
   "source": [
    "# Analysis: These songs amount to a serious percentage of all songs"
   ]
  },
  {
   "cell_type": "code",
   "execution_count": null,
   "metadata": {},
   "outputs": [],
   "source": [
    "n_played_dec = songs_per_day.loc['2022-12-01':].groupby('Hash').sum().sort_values(ascending=False)\n",
    "\n",
    "(n_played_dec.cumsum() / n_played_dec.sum()).loc[lambda s: s<0.25]"
   ]
  },
  {
   "cell_type": "code",
   "execution_count": null,
   "metadata": {},
   "outputs": [],
   "source": [
    "n_played_dec.to_frame().join(df_song).head(12)"
   ]
  }
 ],
 "metadata": {
  "kernelspec": {
   "display_name": "radioplaylist",
   "language": "python",
   "name": "python3"
  },
  "language_info": {
   "codemirror_mode": {
    "name": "ipython",
    "version": 3
   },
   "file_extension": ".py",
   "mimetype": "text/x-python",
   "name": "python",
   "nbconvert_exporter": "python",
   "pygments_lexer": "ipython3",
   "version": "3.10.8 | packaged by conda-forge | (main, Nov 24 2022, 14:07:00) [MSC v.1916 64 bit (AMD64)]"
  },
  "orig_nbformat": 4,
  "vscode": {
   "interpreter": {
    "hash": "d746070669ff28f6e923dad544f34529d5088e32f65775c04aec957eee9579ad"
   }
  }
 },
 "nbformat": 4,
 "nbformat_minor": 2
}
