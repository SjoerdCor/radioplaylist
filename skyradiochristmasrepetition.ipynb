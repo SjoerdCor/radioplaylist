{
 "cells": [
  {
   "cell_type": "code",
   "execution_count": 1,
   "metadata": {},
   "outputs": [],
   "source": [
    "import datetime\n",
    "\n",
    "import bs4\n",
    "import requests\n",
    "import pandas as pd\n",
    "import numpy as np\n",
    "import matplotlib.pyplot as plt\n",
    "from matplotlib.ticker import PercentFormatter\n",
    "\n",
    "import micplot"
   ]
  },
  {
   "cell_type": "markdown",
   "metadata": {},
   "source": [
    "# Introduction"
   ]
  },
  {
   "cell_type": "markdown",
   "metadata": {},
   "source": [
    "# Collecting the data"
   ]
  },
  {
   "cell_type": "code",
   "execution_count": 2,
   "metadata": {},
   "outputs": [],
   "source": [
    "def url_to_soup(url):\n",
    "    request = requests.get(url)\n",
    "    return bs4.BeautifulSoup(request.text, 'html5lib')\n",
    "\n",
    "def create_url(date):\n",
    "    datestr = f'{date.day}-{date.month}-{date.year}'\n",
    "    return f'https://www.muziekweb.nl/Muziekweb/Radio/?station=SkyRadio&date={datestr}&RangeStart=1&RangeEnd=500'\n",
    "\n",
    "def find_all_rows(soup):\n",
    "    return soup.find('ul', attrs={'class': 'radio-playlist'}).find_all('li', class_=['odd', 'even'])\n",
    "\n",
    "def row_to_dct(ele) -> dict:\n",
    "    result = {}\n",
    "    result['Time'] = ele.find('div', attrs={'class': \"col-time\"}).text.strip()\n",
    "    result['Title'] = ele.find('span', class_=['cat-songtitle', 'col-songtitle']).text.strip()\n",
    "    result['Artist'] = ele.find('div', attrs={'class': \"col-performers\"}).text.strip()\n",
    "    return result\n",
    "\n",
    "def json_to_df(json, date):\n",
    "    df = pd.DataFrame(json)\n",
    "    df['Datetime'] = [pd.Timestamp(date.strftime('%Y-%m-%d ') + time) for time in df['Time']]\n",
    "    return df.drop(columns=['Time'])\n"
   ]
  },
  {
   "cell_type": "code",
   "execution_count": 3,
   "metadata": {},
   "outputs": [],
   "source": [
    "dfs = []\n",
    "for date in pd.date_range('2022-11-01', '2022-12-25'):\n",
    "    url = create_url(date)\n",
    "    soup = url_to_soup(url)\n",
    "    rows = find_all_rows(soup)\n",
    "    json = [row_to_dct(div) for div in rows]\n",
    "    df = json_to_df(json, date)\n",
    "    dfs.append(df)\n",
    "\n",
    "df = pd.concat(dfs)"
   ]
  },
  {
   "attachments": {},
   "cell_type": "markdown",
   "metadata": {},
   "source": [
    "# Analysis: when do the Christmas songs start playing?"
   ]
  },
  {
   "cell_type": "code",
   "execution_count": 4,
   "metadata": {},
   "outputs": [],
   "source": [
    "df = df.assign(Hash = lambda df: df[['Title', 'Artist']].apply(lambda r: hash(tuple(r)), axis=1))\n",
    "STARTDATE_CHRISTMASSTATION = '2022-12-06'\n",
    "kerstnummer = df.groupby('Hash')['Datetime'].last().gt(STARTDATE_CHRISTMASSTATION)\n",
    "df = df.assign(Kerstnummer = df['Hash'].map(kerstnummer))\n",
    "df_song = df.groupby('Hash')[['Title', 'Artist']].first()"
   ]
  },
  {
   "cell_type": "code",
   "execution_count": 5,
   "metadata": {},
   "outputs": [
    {
     "data": {
      "text/plain": [
       "Text(0.5, 0, '')"
      ]
     },
     "execution_count": 5,
     "metadata": {},
     "output_type": "execute_result"
    },
    {
     "data": {
      "image/png": "[encoded data removed]",
      "text/plain": [
       "<Figure size 640x480 with 1 Axes>"
      ]
     },
     "metadata": {},
     "output_type": "display_data"
    }
   ],
   "source": [
    "df_day = (df.groupby(pd.Grouper(key='Datetime', freq='D')).agg(AantalNummers = pd.NamedAgg('Hash', 'count'),\n",
    "                                                                AantalUniekeNummers=pd.NamedAgg('Hash', 'nunique'),\n",
    "                                                              VaakstGedraaid = pd.NamedAgg('Hash', lambda s: s.value_counts().max()),\n",
    "                                                              PctKerstnummers = pd.NamedAgg('Kerstnummer', 'mean'),\n",
    ")\n",
    ".assign(GemiddeldKerenGedraaid = lambda df: df['AantalNummers'] / df['AantalUniekeNummers'])\n",
    ")\n",
    "\n",
    "ax = df_day['PctKerstnummers'].plot()\n",
    "ax.yaxis.set_major_formatter(PercentFormatter(xmax=1))\n",
    "ax.set_ylabel('Percentage kerstliedjes')\n",
    "ax.set_xlabel('')"
   ]
  },
  {
   "cell_type": "code",
   "execution_count": 6,
   "metadata": {},
   "outputs": [],
   "source": [
    "def filter_by_date_range(df, start_date, num_days):\n",
    "  start_date = pd.to_datetime(start_date)\n",
    "  end_date = start_date + pd.Timedelta(num_days, unit='d')\n",
    "  mask = (df['Datetime'] >= start_date) & (df['Datetime'] < end_date)\n",
    "  return df[mask]\n",
    "\n",
    "def compare_unique_songs(df, days, first_start_date='2022-11-01', second_start_date='2022-12-01'):\n",
    "    df_first_start_date = filter_by_date_range(df, first_start_date, days)\n",
    "    df_second_start_date = filter_by_date_range(df, second_start_date, days)\n",
    "    result = pd.Series({(first_start_date, days): df_first_start_date['Hash'].nunique(),\n",
    "                (second_start_date, days): df_second_start_date['Hash'].nunique()})\n",
    "    return result\n",
    "\n",
    "df_nunique = (pd.concat([compare_unique_songs(df, d) for d in [1, 7, 20]])\n",
    "                .unstack(level=0)\n",
    "                .rename(columns={'2022-11-01': 'Pre-Christmas Period',\n",
    "                                 '2022-12-01': 'Christmas Period'}\n",
    "                                 )\n",
    "              )\n"
   ]
  },
  {
   "attachments": {},
   "cell_type": "markdown",
   "metadata": {},
   "source": [
    "# Analysis: not many new songs are played"
   ]
  },
  {
   "cell_type": "code",
   "execution_count": 7,
   "metadata": {},
   "outputs": [
    {
     "data": {
      "text/plain": [
       "Text(0, 0.5, 'Number of songs')"
      ]
     },
     "execution_count": 7,
     "metadata": {},
     "output_type": "execute_result"
    },
    {
     "data": {
      "image/png": "[encoded data removed]",
      "text/plain": [
       "<Figure size 640x480 with 1 Axes>"
      ]
     },
     "metadata": {},
     "output_type": "display_data"
    }
   ],
   "source": [
    "vis = micplot.visualize(df_nunique.loc[[1]], plottype='vertical_bar')\n",
    "vis.ax.set_xlabel('Days of listening')\n",
    "vis.ax.set_ylabel('Number of songs')"
   ]
  },
  {
   "cell_type": "code",
   "execution_count": 8,
   "metadata": {},
   "outputs": [
    {
     "data": {
      "text/plain": [
       "Text(0, 0.5, 'Number of songs')"
      ]
     },
     "execution_count": 8,
     "metadata": {},
     "output_type": "execute_result"
    },
    {
     "data": {
      "image/png": "[encoded data removed]",
      "text/plain": [
       "<Figure size 640x480 with 1 Axes>"
      ]
     },
     "metadata": {},
     "output_type": "display_data"
    }
   ],
   "source": [
    "vis = micplot.visualize(df_nunique.loc[[1, 7]], plottype='vertical_bar')\n",
    "vis.ax.set_xlabel('Days of listening')\n",
    "vis.ax.set_ylabel('Number of songs')"
   ]
  },
  {
   "cell_type": "code",
   "execution_count": 9,
   "metadata": {},
   "outputs": [
    {
     "data": {
      "text/plain": [
       "Text(0, 0.5, 'Number of songs')"
      ]
     },
     "execution_count": 9,
     "metadata": {},
     "output_type": "execute_result"
    },
    {
     "data": {
      "image/png": "[encoded data removed]",
      "text/plain": [
       "<Figure size 640x480 with 1 Axes>"
      ]
     },
     "metadata": {},
     "output_type": "display_data"
    }
   ],
   "source": [
    "vis = micplot.visualize(df_nunique, plottype='vertical_bar')\n",
    "vis.ax.set_xlabel('Days of listening')\n",
    "vis.ax.set_ylabel('Number of songs')"
   ]
  },
  {
   "cell_type": "code",
   "execution_count": 10,
   "metadata": {},
   "outputs": [],
   "source": [
    "songs_per_day = df.groupby([pd.Grouper(key='Datetime', freq='D'), 'Hash']).size()"
   ]
  },
  {
   "attachments": {},
   "cell_type": "markdown",
   "metadata": {},
   "source": [
    "# Analysis: a few favorite songs are replayed everytime"
   ]
  },
  {
   "cell_type": "code",
   "execution_count": 11,
   "metadata": {},
   "outputs": [
    {
     "data": {
      "text/html": [
       "<div>\n",
       "<style scoped>\n",
       "    .dataframe tbody tr th:only-of-type {\n",
       "        vertical-align: middle;\n",
       "    }\n",
       "\n",
       "    .dataframe tbody tr th {\n",
       "        vertical-align: top;\n",
       "    }\n",
       "\n",
       "    .dataframe thead th {\n",
       "        text-align: right;\n",
       "    }\n",
       "</style>\n",
       "<table border=\"1\" class=\"dataframe\">\n",
       "  <thead>\n",
       "    <tr style=\"text-align: right;\">\n",
       "      <th></th>\n",
       "      <th></th>\n",
       "      <th>#_played</th>\n",
       "      <th>Title</th>\n",
       "      <th>Artist</th>\n",
       "    </tr>\n",
       "    <tr>\n",
       "      <th>Datetime</th>\n",
       "      <th>Hash</th>\n",
       "      <th></th>\n",
       "      <th></th>\n",
       "      <th></th>\n",
       "    </tr>\n",
       "  </thead>\n",
       "  <tbody>\n",
       "    <tr>\n",
       "      <th rowspan=\"4\" valign=\"top\">2022-12-24</th>\n",
       "      <th>-2030701603889322108</th>\n",
       "      <td>9</td>\n",
       "      <td>Santa tell me</td>\n",
       "      <td>Ariana Grande</td>\n",
       "    </tr>\n",
       "    <tr>\n",
       "      <th>2503988097722072517</th>\n",
       "      <td>9</td>\n",
       "      <td>Driving home for Christmas</td>\n",
       "      <td>Chris Rea</td>\n",
       "    </tr>\n",
       "    <tr>\n",
       "      <th>5319227375646573972</th>\n",
       "      <td>9</td>\n",
       "      <td>Underneath the tree</td>\n",
       "      <td>Kelly Clarkson</td>\n",
       "    </tr>\n",
       "    <tr>\n",
       "      <th>7562222494269297604</th>\n",
       "      <td>9</td>\n",
       "      <td>Last Christmas</td>\n",
       "      <td>Wham!</td>\n",
       "    </tr>\n",
       "  </tbody>\n",
       "</table>\n",
       "</div>"
      ],
      "text/plain": [
       "                                 #_played                       Title  \\\n",
       "Datetime   Hash                                                         \n",
       "2022-12-24 -2030701603889322108         9               Santa tell me   \n",
       "            2503988097722072517         9  Driving home for Christmas   \n",
       "            5319227375646573972         9         Underneath the tree   \n",
       "            7562222494269297604         9              Last Christmas   \n",
       "\n",
       "                                         Artist  \n",
       "Datetime   Hash                                  \n",
       "2022-12-24 -2030701603889322108   Ariana Grande  \n",
       "            2503988097722072517       Chris Rea  \n",
       "            5319227375646573972  Kelly Clarkson  \n",
       "            7562222494269297604           Wham!  "
      ]
     },
     "execution_count": 11,
     "metadata": {},
     "output_type": "execute_result"
    }
   ],
   "source": [
    "songs_per_day.loc[lambda s: s.eq(s.max())].to_frame(name='#_played').join(df_song)"
   ]
  },
  {
   "cell_type": "code",
   "execution_count": 12,
   "metadata": {},
   "outputs": [
    {
     "data": {
      "text/html": [
       "<div>\n",
       "<style scoped>\n",
       "    .dataframe tbody tr th:only-of-type {\n",
       "        vertical-align: middle;\n",
       "    }\n",
       "\n",
       "    .dataframe tbody tr th {\n",
       "        vertical-align: top;\n",
       "    }\n",
       "\n",
       "    .dataframe thead th {\n",
       "        text-align: right;\n",
       "    }\n",
       "</style>\n",
       "<table border=\"1\" class=\"dataframe\">\n",
       "  <thead>\n",
       "    <tr style=\"text-align: right;\">\n",
       "      <th></th>\n",
       "      <th>min. # played every day</th>\n",
       "      <th>Title</th>\n",
       "      <th>Artist</th>\n",
       "    </tr>\n",
       "    <tr>\n",
       "      <th>Hash</th>\n",
       "      <th></th>\n",
       "      <th></th>\n",
       "      <th></th>\n",
       "    </tr>\n",
       "  </thead>\n",
       "  <tbody>\n",
       "    <tr>\n",
       "      <th>-1983899554406624555</th>\n",
       "      <td>5</td>\n",
       "      <td>Happy x mas war is over</td>\n",
       "      <td>John Lennon</td>\n",
       "    </tr>\n",
       "    <tr>\n",
       "      <th>-562996564404392590</th>\n",
       "      <td>5</td>\n",
       "      <td>All I want for Christmas is you</td>\n",
       "      <td>Mariah Carey</td>\n",
       "    </tr>\n",
       "    <tr>\n",
       "      <th>373598356924467760</th>\n",
       "      <td>5</td>\n",
       "      <td>All alone on Christmas</td>\n",
       "      <td>Darlene Love</td>\n",
       "    </tr>\n",
       "    <tr>\n",
       "      <th>2503988097722072517</th>\n",
       "      <td>5</td>\n",
       "      <td>Driving home for Christmas</td>\n",
       "      <td>Chris Rea</td>\n",
       "    </tr>\n",
       "  </tbody>\n",
       "</table>\n",
       "</div>"
      ],
      "text/plain": [
       "                      min. # played every day  \\\n",
       "Hash                                            \n",
       "-1983899554406624555                        5   \n",
       "-562996564404392590                         5   \n",
       " 373598356924467760                         5   \n",
       " 2503988097722072517                        5   \n",
       "\n",
       "                                                Title        Artist  \n",
       "Hash                                                                 \n",
       "-1983899554406624555          Happy x mas war is over   John Lennon  \n",
       "-562996564404392590   All I want for Christmas is you  Mariah Carey  \n",
       " 373598356924467760            All alone on Christmas  Darlene Love  \n",
       " 2503988097722072517       Driving home for Christmas     Chris Rea  "
      ]
     },
     "execution_count": 12,
     "metadata": {},
     "output_type": "execute_result"
    }
   ],
   "source": [
    "songs_per_day.unstack(fill_value=0).loc['2022-12-01':].min().loc[lambda s: s.ge(5)].to_frame(name='min. # played every day').join(df_song)"
   ]
  },
  {
   "attachments": {},
   "cell_type": "markdown",
   "metadata": {},
   "source": [
    "This wasn't the case before Christmas"
   ]
  },
  {
   "cell_type": "code",
   "execution_count": 13,
   "metadata": {},
   "outputs": [
    {
     "data": {
      "text/html": [
       "<div>\n",
       "<style scoped>\n",
       "    .dataframe tbody tr th:only-of-type {\n",
       "        vertical-align: middle;\n",
       "    }\n",
       "\n",
       "    .dataframe tbody tr th {\n",
       "        vertical-align: top;\n",
       "    }\n",
       "\n",
       "    .dataframe thead th {\n",
       "        text-align: right;\n",
       "    }\n",
       "</style>\n",
       "<table border=\"1\" class=\"dataframe\">\n",
       "  <thead>\n",
       "    <tr style=\"text-align: right;\">\n",
       "      <th></th>\n",
       "      <th>min. # played every day</th>\n",
       "      <th>Title</th>\n",
       "      <th>Artist</th>\n",
       "    </tr>\n",
       "    <tr>\n",
       "      <th>Hash</th>\n",
       "      <th></th>\n",
       "      <th></th>\n",
       "      <th></th>\n",
       "    </tr>\n",
       "  </thead>\n",
       "  <tbody>\n",
       "  </tbody>\n",
       "</table>\n",
       "</div>"
      ],
      "text/plain": [
       "Empty DataFrame\n",
       "Columns: [min. # played every day, Title, Artist]\n",
       "Index: []"
      ]
     },
     "execution_count": 13,
     "metadata": {},
     "output_type": "execute_result"
    }
   ],
   "source": [
    "songs_per_day.unstack(fill_value=0).loc['2022-11-01':'2022-11-20'].min().loc[lambda s: s.ge(5)].to_frame(name='min. # played every day').join(df_song)"
   ]
  },
  {
   "attachments": {},
   "cell_type": "markdown",
   "metadata": {},
   "source": [
    "# Analysis: These songs amount to a serious percentage of all songs"
   ]
  },
  {
   "cell_type": "code",
   "execution_count": 14,
   "metadata": {},
   "outputs": [
    {
     "data": {
      "text/plain": [
       "(12,)"
      ]
     },
     "execution_count": 14,
     "metadata": {},
     "output_type": "execute_result"
    }
   ],
   "source": [
    "n_played_dec = songs_per_day.loc['2022-12-01':].groupby('Hash').sum().sort_values(ascending=False)\n",
    "\n",
    "(n_played_dec.cumsum() / n_played_dec.sum()).loc[lambda s: s<0.25].shape"
   ]
  },
  {
   "cell_type": "code",
   "execution_count": 15,
   "metadata": {},
   "outputs": [
    {
     "data": {
      "text/html": [
       "<div>\n",
       "<style scoped>\n",
       "    .dataframe tbody tr th:only-of-type {\n",
       "        vertical-align: middle;\n",
       "    }\n",
       "\n",
       "    .dataframe tbody tr th {\n",
       "        vertical-align: top;\n",
       "    }\n",
       "\n",
       "    .dataframe thead th {\n",
       "        text-align: right;\n",
       "    }\n",
       "</style>\n",
       "<table border=\"1\" class=\"dataframe\">\n",
       "  <thead>\n",
       "    <tr style=\"text-align: right;\">\n",
       "      <th></th>\n",
       "      <th>0</th>\n",
       "      <th>Title</th>\n",
       "      <th>Artist</th>\n",
       "    </tr>\n",
       "    <tr>\n",
       "      <th>Hash</th>\n",
       "      <th></th>\n",
       "      <th></th>\n",
       "      <th></th>\n",
       "    </tr>\n",
       "  </thead>\n",
       "  <tbody>\n",
       "    <tr>\n",
       "      <th>-562996564404392590</th>\n",
       "      <td>174</td>\n",
       "      <td>All I want for Christmas is you</td>\n",
       "      <td>Mariah Carey</td>\n",
       "    </tr>\n",
       "    <tr>\n",
       "      <th>7562222494269297604</th>\n",
       "      <td>172</td>\n",
       "      <td>Last Christmas</td>\n",
       "      <td>Wham!</td>\n",
       "    </tr>\n",
       "    <tr>\n",
       "      <th>2503988097722072517</th>\n",
       "      <td>171</td>\n",
       "      <td>Driving home for Christmas</td>\n",
       "      <td>Chris Rea</td>\n",
       "    </tr>\n",
       "    <tr>\n",
       "      <th>373598356924467760</th>\n",
       "      <td>170</td>\n",
       "      <td>All alone on Christmas</td>\n",
       "      <td>Darlene Love</td>\n",
       "    </tr>\n",
       "    <tr>\n",
       "      <th>-2030701603889322108</th>\n",
       "      <td>170</td>\n",
       "      <td>Santa tell me</td>\n",
       "      <td>Ariana Grande</td>\n",
       "    </tr>\n",
       "    <tr>\n",
       "      <th>9075625980769941621</th>\n",
       "      <td>169</td>\n",
       "      <td>Christmas time</td>\n",
       "      <td>Bryan Adams</td>\n",
       "    </tr>\n",
       "    <tr>\n",
       "      <th>5319227375646573972</th>\n",
       "      <td>169</td>\n",
       "      <td>Underneath the tree</td>\n",
       "      <td>Kelly Clarkson</td>\n",
       "    </tr>\n",
       "    <tr>\n",
       "      <th>1230657090513505592</th>\n",
       "      <td>168</td>\n",
       "      <td>Do they know it's Christmas</td>\n",
       "      <td>Band Aid</td>\n",
       "    </tr>\n",
       "    <tr>\n",
       "      <th>3310579603189762127</th>\n",
       "      <td>161</td>\n",
       "      <td>Thank God it's Christmas</td>\n",
       "      <td>Queen</td>\n",
       "    </tr>\n",
       "    <tr>\n",
       "      <th>-1983899554406624555</th>\n",
       "      <td>160</td>\n",
       "      <td>Happy x mas war is over</td>\n",
       "      <td>John Lennon</td>\n",
       "    </tr>\n",
       "    <tr>\n",
       "      <th>7899403411575018298</th>\n",
       "      <td>159</td>\n",
       "      <td>It's gonna be a cold cold Christmas</td>\n",
       "      <td>Dana</td>\n",
       "    </tr>\n",
       "    <tr>\n",
       "      <th>4136936590560988174</th>\n",
       "      <td>146</td>\n",
       "      <td>Feliz Navidad</td>\n",
       "      <td>José Feliciano</td>\n",
       "    </tr>\n",
       "  </tbody>\n",
       "</table>\n",
       "</div>"
      ],
      "text/plain": [
       "                        0                                Title          Artist\n",
       "Hash                                                                          \n",
       "-562996564404392590   174      All I want for Christmas is you    Mariah Carey\n",
       " 7562222494269297604  172                       Last Christmas           Wham!\n",
       " 2503988097722072517  171           Driving home for Christmas       Chris Rea\n",
       " 373598356924467760   170               All alone on Christmas    Darlene Love\n",
       "-2030701603889322108  170                        Santa tell me   Ariana Grande\n",
       " 9075625980769941621  169                       Christmas time     Bryan Adams\n",
       " 5319227375646573972  169                  Underneath the tree  Kelly Clarkson\n",
       " 1230657090513505592  168          Do they know it's Christmas        Band Aid\n",
       " 3310579603189762127  161             Thank God it's Christmas           Queen\n",
       "-1983899554406624555  160              Happy x mas war is over     John Lennon\n",
       " 7899403411575018298  159  It's gonna be a cold cold Christmas            Dana\n",
       " 4136936590560988174  146                        Feliz Navidad  José Feliciano"
      ]
     },
     "execution_count": 15,
     "metadata": {},
     "output_type": "execute_result"
    }
   ],
   "source": [
    "n_played_dec.to_frame().join(df_song).head(12)"
   ]
  }
 ],
 "metadata": {
  "kernelspec": {
   "display_name": "radioplaylist",
   "language": "python",
   "name": "python3"
  },
  "language_info": {
   "codemirror_mode": {
    "name": "ipython",
    "version": 3
   },
   "file_extension": ".py",
   "mimetype": "text/x-python",
   "name": "python",
   "nbconvert_exporter": "python",
   "pygments_lexer": "ipython3",
   "version": "3.10.8"
  },
  "orig_nbformat": 4,
  "vscode": {
   "interpreter": {
    "hash": "d746070669ff28f6e923dad544f34529d5088e32f65775c04aec957eee9579ad"
   }
  }
 },
 "nbformat": 4,
 "nbformat_minor": 2
}
